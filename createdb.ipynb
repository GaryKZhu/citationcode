{
 "cells": [
  {
   "cell_type": "code",
   "execution_count": 11,
   "id": "dfa4e760",
   "metadata": {},
   "outputs": [
    {
     "name": "stdout",
     "output_type": "stream",
     "text": [
      "SQLITE DB Creation Completed!\n"
     ]
    }
   ],
   "source": [
    "import sqlite3\n",
    "if(__name__ == \"__main__\"):\n",
    "    \n",
    "    #create databases\n",
    "    \n",
    "    sconn = sqlite3.connect(\"sentence.db\")\n",
    "    sconn.execute(\"DROP TABLE sentences\")\n",
    "    sconn.execute('''CREATE TABLE sentences\n",
    "         ( arxiv_id varchar(50),\n",
    "         sentence varchar(1000),\n",
    "         citation_count int,\n",
    "         sentence_id int);''' )\n",
    "    \n",
    "    sconn.execute(''' CREATE index ind_sentence on sentences(arxiv_id) ''')\n",
    "        \n",
    "    sconn.execute(\"DROP TABLE citations\")\n",
    "    sconn.execute('''CREATE TABLE citations\n",
    "     ( arxiv_id varchar(50),\n",
    "     sentence_id int,\n",
    "     paper_id varchar(50));''' )\n",
    "    \n",
    "    \n",
    "    cconn = sqlite3.connect(\"citation.db\")\n",
    "    cconn.execute(\"DROP TABLE citations\")\n",
    "    cconn.execute('''CREATE TABLE citations\n",
    "        ( arxiv_id varchar(50),\n",
    "       first_sentence varchar(200),\n",
    "       second_sentence varchar(200),\n",
    "       third_sentence varchar(200),\n",
    "       fourth_sentence varchar(200),\n",
    "       fifth_sentence varchar(200),\n",
    "       second_sentence_id int,\n",
    "       fourth_sentence_id int);''' )\n",
    "    \n",
    "    sconn.close() \n",
    "    cconn.close()\n",
    "    print(\"SQLITE DB Creation Completed!\")"
   ]
  },
  {
   "cell_type": "code",
   "execution_count": null,
   "id": "90d9a3a1",
   "metadata": {},
   "outputs": [],
   "source": []
  },
  {
   "cell_type": "code",
   "execution_count": null,
   "id": "35141669",
   "metadata": {},
   "outputs": [],
   "source": []
  },
  {
   "cell_type": "code",
   "execution_count": null,
   "id": "d8aa7c35",
   "metadata": {},
   "outputs": [],
   "source": []
  }
 ],
 "metadata": {
  "kernelspec": {
   "display_name": "Python 3",
   "language": "python",
   "name": "python3"
  },
  "language_info": {
   "codemirror_mode": {
    "name": "ipython",
    "version": 3
   },
   "file_extension": ".py",
   "mimetype": "text/x-python",
   "name": "python",
   "nbconvert_exporter": "python",
   "pygments_lexer": "ipython3",
   "version": "3.8.8"
  }
 },
 "nbformat": 4,
 "nbformat_minor": 5
}
